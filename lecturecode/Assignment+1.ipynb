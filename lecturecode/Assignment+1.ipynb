{
 "cells": [
  {
   "cell_type": "markdown",
   "metadata": {},
   "source": [
    "---\n",
    "\n",
    "_You are currently looking at **version 1.1** of this notebook. To download notebooks and datafiles, as well as get help on Jupyter notebooks in the Coursera platform, visit the [Jupyter Notebook FAQ](https://www.coursera.org/learn/python-social-network-analysis/resources/yPcBs) course resource._\n",
    "\n",
    "---"
   ]
  },
  {
   "cell_type": "markdown",
   "metadata": {},
   "source": [
    "# Assignment 1 - Creating and Manipulating Graphs\n",
    "\n",
    "Eight employees at a small company were asked to choose 3 movies that they would most enjoy watching for the upcoming company movie night. These choices are stored in the file `Employee_Movie_Choices.txt`.\n",
    "\n",
    "A second file, `Employee_Relationships.txt`, has data on the relationships between different coworkers. \n",
    "\n",
    "The relationship score has value of `-100` (Enemies) to `+100` (Best Friends). A value of zero means the two employees haven't interacted or are indifferent.\n",
    "\n",
    "Both files are tab delimited."
   ]
  },
  {
   "cell_type": "code",
   "execution_count": 1,
   "metadata": {
    "collapsed": true
   },
   "outputs": [],
   "source": [
    "import networkx as nx\n",
    "import pandas as pd\n",
    "import numpy as np\n",
    "from networkx.algorithms import bipartite\n",
    "\n",
    "\n",
    "# This is the set of employees\n",
    "employees = set(['Pablo',\n",
    "                 'Lee',\n",
    "                 'Georgia',\n",
    "                 'Vincent',\n",
    "                 'Andy',\n",
    "                 'Frida',\n",
    "                 'Joan',\n",
    "                 'Claude'])\n",
    "\n",
    "# This is the set of movies\n",
    "movies = set(['The Shawshank Redemption',\n",
    "              'Forrest Gump',\n",
    "              'The Matrix',\n",
    "              'Anaconda',\n",
    "              'The Social Network',\n",
    "              'The Godfather',\n",
    "              'Monty Python and the Holy Grail',\n",
    "              'Snakes on a Plane',\n",
    "              'Kung Fu Panda',\n",
    "              'The Dark Knight',\n",
    "              'Mean Girls'])\n",
    "\n",
    "\n",
    "# you can use the following function to plot graphs\n",
    "# make sure to comment it out before submitting to the autograder\n",
    "def plot_graph(G, weight_name=None):\n",
    "    '''\n",
    "    G: a networkx G\n",
    "    weight_name: name of the attribute for plotting edge weights (if G is weighted)\n",
    "    '''\n",
    "    %matplotlib notebook\n",
    "    import matplotlib.pyplot as plt\n",
    "    \n",
    "    plt.figure()\n",
    "    pos = nx.spring_layout(G)\n",
    "    edges = G.edges()\n",
    "    weights = None\n",
    "    \n",
    "    if weight_name:\n",
    "        weights = [int(G[u][v][weight_name]) for u,v in edges]\n",
    "        labels = nx.get_edge_attributes(G,weight_name)\n",
    "        nx.draw_networkx_edge_labels(G,pos,edge_labels=labels)\n",
    "        nx.draw_networkx(G, pos, edges=edges, width=weights);\n",
    "    else:\n",
    "        nx.draw_networkx(G, pos, edges=edges);"
   ]
  },
  {
   "cell_type": "code",
   "execution_count": 9,
   "metadata": {
    "collapsed": true
   },
   "outputs": [],
   "source": [
    "# Employee_Movie_Choices = pd.read_csv('Employee_Movie_Choices.txt', delimiter='\\t')"
   ]
  },
  {
   "cell_type": "code",
   "execution_count": 10,
   "metadata": {
    "collapsed": true
   },
   "outputs": [],
   "source": [
    "# G = nx.from_pandas_dataframe(Employee_Movie_Choices, '#Employee', 'Movie')"
   ]
  },
  {
   "cell_type": "markdown",
   "metadata": {},
   "source": [
    "### Question 1\n",
    "\n",
    "Using NetworkX, load in the bipartite graph from `Employee_Movie_Choices.txt` and return that graph.\n",
    "\n",
    "*This function should return a networkx graph with 19 nodes and 24 edges*"
   ]
  },
  {
   "cell_type": "code",
   "execution_count": 11,
   "metadata": {
    "collapsed": true
   },
   "outputs": [],
   "source": [
    "# Employee_Movie_Choices = pd.read_csv('Employee_Movie_Choices.txt', delimiter='\\t')\n",
    "# G = nx.from_pandas_dataframe(Employee_Movie_Choices, '#Employee', 'Movie')"
   ]
  },
  {
   "cell_type": "code",
   "execution_count": 12,
   "metadata": {
    "collapsed": true
   },
   "outputs": [],
   "source": [
    "# G.add_nodes_from(employees, bipartite=0)"
   ]
  },
  {
   "cell_type": "code",
   "execution_count": 13,
   "metadata": {
    "collapsed": true
   },
   "outputs": [],
   "source": [
    "# G.add_nodes_from(movies, bipartite=1)"
   ]
  },
  {
   "cell_type": "code",
   "execution_count": 5,
   "metadata": {
    "collapsed": true
   },
   "outputs": [],
   "source": [
    "def answer_one():\n",
    "    \n",
    "#     Employee_Movie_Choices = pd.read_csv('Employee_Movie_Choices.txt', delimiter='\\t')\n",
    "#     G = nx.from_pandas_dataframe(Employee_Movie_Choices, '#Employee', 'Movie')\n",
    "    \n",
    "#     G.add_nodes_from(employees, bipartite=0)\n",
    "#     G.add_nodes_from(movies, bipartite=1)\n",
    "\n",
    "    G = nx.read_adjlist('Employee_Movie_Choices.txt', delimiter='\\t')\n",
    "    \n",
    "    return G"
   ]
  },
  {
   "cell_type": "code",
   "execution_count": 6,
   "metadata": {
    "collapsed": true
   },
   "outputs": [],
   "source": [
    "# G = answer_one()"
   ]
  },
  {
   "cell_type": "code",
   "execution_count": 7,
   "metadata": {},
   "outputs": [
    {
     "data": {
      "text/plain": [
       "{'Anaconda': {'Andy': {}, 'Claude': {}, 'Georgia': {}},\n",
       " 'Andy': {'Anaconda': {}, 'Mean Girls': {}, 'The Matrix': {}},\n",
       " 'Claude': {'Anaconda': {},\n",
       "  'Monty Python and the Holy Grail': {},\n",
       "  'Snakes on a Plane': {}},\n",
       " 'Forrest Gump': {'Joan': {}, 'Lee': {}},\n",
       " 'Frida': {'The Matrix': {},\n",
       "  'The Shawshank Redemption': {},\n",
       "  'The Social Network': {}},\n",
       " 'Georgia': {'Anaconda': {},\n",
       "  'Monty Python and the Holy Grail': {},\n",
       "  'Snakes on a Plane': {}},\n",
       " 'Joan': {'Forrest Gump': {}, 'Kung Fu Panda': {}, 'Mean Girls': {}},\n",
       " 'Kung Fu Panda': {'Joan': {}, 'Lee': {}},\n",
       " 'Lee': {'Forrest Gump': {}, 'Kung Fu Panda': {}, 'Mean Girls': {}},\n",
       " 'Mean Girls': {'Andy': {}, 'Joan': {}, 'Lee': {}},\n",
       " 'Monty Python and the Holy Grail': {'Claude': {}, 'Georgia': {}},\n",
       " 'Pablo': {'The Dark Knight': {},\n",
       "  'The Matrix': {},\n",
       "  'The Shawshank Redemption': {}},\n",
       " 'Snakes on a Plane': {'Claude': {}, 'Georgia': {}},\n",
       " 'The Dark Knight': {'Pablo': {}},\n",
       " 'The Godfather': {'Vincent': {}},\n",
       " 'The Matrix': {'Andy': {}, 'Frida': {}, 'Pablo': {}},\n",
       " 'The Shawshank Redemption': {'Frida': {}, 'Pablo': {}, 'Vincent': {}},\n",
       " 'The Social Network': {'Frida': {}, 'Vincent': {}},\n",
       " 'Vincent': {'The Godfather': {},\n",
       "  'The Shawshank Redemption': {},\n",
       "  'The Social Network': {}}}"
      ]
     },
     "execution_count": 7,
     "metadata": {},
     "output_type": "execute_result"
    }
   ],
   "source": [
    "# G.edge"
   ]
  },
  {
   "cell_type": "markdown",
   "metadata": {},
   "source": [
    "### Question 2\n",
    "\n",
    "Using the graph from the previous question, add nodes attributes named `'type'` where movies have the value `'movie'` and employees have the value `'employee'` and return that graph.\n",
    "\n",
    "*This function should return a networkx graph with node attributes `{'type': 'movie'}` or `{'type': 'employee'}`*"
   ]
  },
  {
   "cell_type": "code",
   "execution_count": 16,
   "metadata": {
    "collapsed": true
   },
   "outputs": [],
   "source": [
    "# G.add_node('Andy', type='employee')"
   ]
  },
  {
   "cell_type": "code",
   "execution_count": 17,
   "metadata": {},
   "outputs": [],
   "source": [
    "# [G.add_node(k, type='employee') for k in G.node.keys() if k in employees]"
   ]
  },
  {
   "cell_type": "code",
   "execution_count": 8,
   "metadata": {
    "collapsed": true
   },
   "outputs": [],
   "source": [
    "def answer_two():\n",
    "    \n",
    "    G = answer_one()\n",
    "    \n",
    "    [G.add_node(k, type='employee') for k in G.node.keys() if k in employees]\n",
    "    [G.add_node(k, type='movie') for k in G.node.keys() if k in movies]\n",
    "    \n",
    "    return G"
   ]
  },
  {
   "cell_type": "code",
   "execution_count": 9,
   "metadata": {
    "collapsed": true
   },
   "outputs": [],
   "source": [
    "G = answer_two()"
   ]
  },
  {
   "cell_type": "code",
   "execution_count": 10,
   "metadata": {},
   "outputs": [
    {
     "data": {
      "text/plain": [
       "{'Anaconda': {'type': 'movie'},\n",
       " 'Andy': {'type': 'employee'},\n",
       " 'Claude': {'type': 'employee'},\n",
       " 'Forrest Gump': {'type': 'movie'},\n",
       " 'Frida': {'type': 'employee'},\n",
       " 'Georgia': {'type': 'employee'},\n",
       " 'Joan': {'type': 'employee'},\n",
       " 'Kung Fu Panda': {'type': 'movie'},\n",
       " 'Lee': {'type': 'employee'},\n",
       " 'Mean Girls': {'type': 'movie'},\n",
       " 'Monty Python and the Holy Grail': {'type': 'movie'},\n",
       " 'Pablo': {'type': 'employee'},\n",
       " 'Snakes on a Plane': {'type': 'movie'},\n",
       " 'The Dark Knight': {'type': 'movie'},\n",
       " 'The Godfather': {'type': 'movie'},\n",
       " 'The Matrix': {'type': 'movie'},\n",
       " 'The Shawshank Redemption': {'type': 'movie'},\n",
       " 'The Social Network': {'type': 'movie'},\n",
       " 'Vincent': {'type': 'employee'}}"
      ]
     },
     "execution_count": 10,
     "metadata": {},
     "output_type": "execute_result"
    }
   ],
   "source": [
    "G.node"
   ]
  },
  {
   "cell_type": "markdown",
   "metadata": {
    "collapsed": true
   },
   "source": [
    "### Question 3\n",
    "\n",
    "Find a weighted projection of the graph from `answer_two` which tells us how many movies different pairs of employees have in common.\n",
    "\n",
    "*This function should return a weighted projected graph.*"
   ]
  },
  {
   "cell_type": "code",
   "execution_count": 11,
   "metadata": {
    "collapsed": true
   },
   "outputs": [],
   "source": [
    "# P = bipartite.weighted_projected_graph(answer_two(), movies)"
   ]
  },
  {
   "cell_type": "code",
   "execution_count": 12,
   "metadata": {
    "collapsed": true
   },
   "outputs": [],
   "source": [
    "def answer_three():\n",
    "        \n",
    "    P =  bipartite.weighted_projected_graph(answer_two(), employees)\n",
    "    \n",
    "    return P"
   ]
  },
  {
   "cell_type": "code",
   "execution_count": 13,
   "metadata": {
    "collapsed": true
   },
   "outputs": [],
   "source": [
    "# P = answer_three()"
   ]
  },
  {
   "cell_type": "code",
   "execution_count": 14,
   "metadata": {},
   "outputs": [],
   "source": [
    "# P.edge"
   ]
  },
  {
   "cell_type": "markdown",
   "metadata": {
    "collapsed": true
   },
   "source": [
    "### Question 4\n",
    "\n",
    "Suppose you'd like to find out if people that have a high relationship score also like the same types of movies.\n",
    "\n",
    "Find the Pearson correlation ( using `DataFrame.corr()` ) between employee relationship scores and the number of movies they have in common. If two employees have no movies in common it should be treated as a 0, not a missing value, and should be included in the correlation calculation.\n",
    "\n",
    "*This function should return a float.*"
   ]
  },
  {
   "cell_type": "code",
   "execution_count": 15,
   "metadata": {},
   "outputs": [],
   "source": [
    "# !cat Employee_Relationships.txt"
   ]
  },
  {
   "cell_type": "code",
   "execution_count": 27,
   "metadata": {},
   "outputs": [],
   "source": [
    "def answer_four():\n",
    "    '''\n",
    "    従業員間のリレーションと、従業員が共通して見ている映画の数の相関を計算する\n",
    "    つまりリレーションが高ければ、より共通して映画を見ているかどうかの仮定の評価\n",
    "    '''\n",
    "    \n",
    "    #リレーションのグラフを読み込む\n",
    "    G_rel = nx.read_edgelist('Employee_Relationships.txt', data=[('relationship', int)])\n",
    "    G_rel = pd.DataFrame(G_rel.edges(data=True), columns=['from', 'to', 'relationship'])\n",
    "    G_rel ['relationship'] = G_rel['relationship'].map(lambda x:x['relationship'])\n",
    "    \n",
    "    #共通して見ている映画の数\n",
    "    P = answer_three()\n",
    "    P_df = pd.DataFrame(P.edges(data=True), columns=['from', 'to', 'weight'])\n",
    "    P_df['weight'] = P_df['weight'].map(lambda x:x['weight'])\n",
    "    \n",
    "    #from toとto fromを入れ替えて結合\n",
    "    #relationが双方向に存在するため\n",
    "    P_df_inv = P_df.rename(columns={'from':'to', 'to':'from'})[['from', 'to', 'weight']]\n",
    "    P_df = pd.concat([P_df, P_df_inv])\n",
    "    \n",
    "    #キーで結合して、相関を計算。共通してみていない場合はweightは0とする\n",
    "    corr_df =pd.merge(G_rel, P_df, on=['from', 'to'], how='left').fillna(0)\n",
    "    corr = corr_df['weight'].corr(corr_df['relationship'])\n",
    "    \n",
    "    return corr "
   ]
  },
  {
   "cell_type": "code",
   "execution_count": 28,
   "metadata": {},
   "outputs": [
    {
     "data": {
      "text/plain": [
       "0.78839622217334737"
      ]
     },
     "execution_count": 28,
     "metadata": {},
     "output_type": "execute_result"
    }
   ],
   "source": [
    "answer_four()"
   ]
  }
 ],
 "metadata": {
  "coursera": {
   "course_slug": "python-social-network-analysis",
   "graded_item_id": "YNa9b",
   "launcher_item_id": "hvNc1",
   "part_id": "VbyiB"
  },
  "kernelspec": {
   "display_name": "Python 3",
   "language": "python",
   "name": "python3"
  },
  "language_info": {
   "codemirror_mode": {
    "name": "ipython",
    "version": 3
   },
   "file_extension": ".py",
   "mimetype": "text/x-python",
   "name": "python",
   "nbconvert_exporter": "python",
   "pygments_lexer": "ipython3",
   "version": "3.6.2"
  }
 },
 "nbformat": 4,
 "nbformat_minor": 2
}
